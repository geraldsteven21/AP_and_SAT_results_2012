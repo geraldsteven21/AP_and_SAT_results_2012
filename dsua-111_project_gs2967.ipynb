{
 "cells": [
  {
   "cell_type": "markdown",
   "metadata": {},
   "source": [
    "## DSUA-111 Project<br>\n",
    "Gerald Steven (gs2967)<br>\n",
    "Data sources:<br>\n",
    "1. https://data.cityofnewyork.us/Education/2012-AP-Results/9ct9-prf9<br>\n",
    "2. https://data.cityofnewyork.us/Education/2012-SAT-Results/f9bf-2cp4"
   ]
  },
  {
   "cell_type": "markdown",
   "metadata": {},
   "source": [
    "## 1: Pre-step"
   ]
  },
  {
   "cell_type": "markdown",
   "metadata": {},
   "source": [
    "The question I would like to answer in this project is whether a higher percentage of AP exams passed for a particular school will correlate to a higher SAT total average score for the same school. This project will explore the relationship of the two variables by setting an initial hypothesis and fitting a regression model."
   ]
  },
  {
   "cell_type": "markdown",
   "metadata": {},
   "source": [
    "## 2: Data"
   ]
  },
  {
   "cell_type": "markdown",
   "metadata": {},
   "source": [
    "Question 2: I found the dataset from NYC Open Data. The URL for the two datasets are listed at the top of this notebook. I first found the AP results dataset from 2012, which contain the AP results of high schools in New York City. Then, I found the average SAT results from every high school in New York City in 2012. I noticed that both datasets have the same length, which led me to assume that the two datasets contain records of the same high school. With this similarity, I can join the two datasets to have a larger dataset that will contain the AP results and average SAT results of every high school in New York City in 2012.\n",
    "\n",
    "\n",
    "Each unit of observation in the two datasets is a high school in New York City. The two variables that are relevant would be the average SAT results from every high school (the average critical reading, math, and writing score), and the results of AP tests in every high school. The latter variable shows the number of AP test takers, the number of AP total exams taken, and the number of AP exams passed. Because this dataset does not actually state the AP test result (a score out of 5), we can instead compute the percentage of AP exams that passed for a high school."
   ]
  },
  {
   "cell_type": "markdown",
   "metadata": {},
   "source": [
    "Question 3: If there is one thing I would change about this dataset, is that for the AP dataframe specifically, I would include the total number of exams that received a each possible score (1-5). In our case, we are only able to compute the percentage of AP exams that passed (the College Board considers anything above 3 a passing grade). This lack of feature in our dataset is a problem because although anything above a 3 is passing, the quality of work for an exam that receives a 5 is still very different from an exam that receives a 3. If we have this information, we will be able to create dummy variables for our analysis. For instance, if we consider 4 and 5 to be an outstanding grade, we can sum the total number of exams for a school that receives a 4 or a 5. Doing so will distinguish the results from those that receive a 3. If we hypothesize that getting a 4 or a 5 correlates to a higher SAT score, then perhaps we might be able to observe a stronger correlation."
   ]
  },
  {
   "cell_type": "markdown",
   "metadata": {},
   "source": [
    "## Load the data\n",
    "\n",
    "Question 4: Load the two CSV files into a dataframe."
   ]
  },
  {
   "cell_type": "code",
   "execution_count": 1,
   "metadata": {},
   "outputs": [],
   "source": [
    "import pandas as pd\n",
    "import numpy as np\n",
    "import os\n",
    "import statsmodels.api as sm"
   ]
  },
  {
   "cell_type": "code",
   "execution_count": 3,
   "metadata": {},
   "outputs": [
    {
     "data": {
      "text/html": [
       "<div>\n",
       "<style scoped>\n",
       "    .dataframe tbody tr th:only-of-type {\n",
       "        vertical-align: middle;\n",
       "    }\n",
       "\n",
       "    .dataframe tbody tr th {\n",
       "        vertical-align: top;\n",
       "    }\n",
       "\n",
       "    .dataframe thead th {\n",
       "        text-align: right;\n",
       "    }\n",
       "</style>\n",
       "<table border=\"1\" class=\"dataframe\">\n",
       "  <thead>\n",
       "    <tr style=\"text-align: right;\">\n",
       "      <th></th>\n",
       "      <th>DBN</th>\n",
       "      <th>SCHOOL NAME</th>\n",
       "      <th>Num of AP Test Takers</th>\n",
       "      <th>Num of AP Total Exams Taken</th>\n",
       "      <th>Num of AP Exams Passed</th>\n",
       "    </tr>\n",
       "  </thead>\n",
       "  <tbody>\n",
       "    <tr>\n",
       "      <th>0</th>\n",
       "      <td>01M292</td>\n",
       "      <td>HENRY STREET SCHOOL FOR INTERNATIONAL STUDIES</td>\n",
       "      <td>s</td>\n",
       "      <td>s</td>\n",
       "      <td>s</td>\n",
       "    </tr>\n",
       "    <tr>\n",
       "      <th>1</th>\n",
       "      <td>01M448</td>\n",
       "      <td>UNIVERSITY NEIGHBORHOOD HIGH SCHOOL</td>\n",
       "      <td>37</td>\n",
       "      <td>53</td>\n",
       "      <td>21</td>\n",
       "    </tr>\n",
       "    <tr>\n",
       "      <th>2</th>\n",
       "      <td>01M450</td>\n",
       "      <td>EAST SIDE COMMUNITY SCHOOL</td>\n",
       "      <td>12</td>\n",
       "      <td>12</td>\n",
       "      <td>s</td>\n",
       "    </tr>\n",
       "    <tr>\n",
       "      <th>3</th>\n",
       "      <td>01M458</td>\n",
       "      <td>FORSYTH SATELLITE ACADEMY</td>\n",
       "      <td>s</td>\n",
       "      <td>s</td>\n",
       "      <td>s</td>\n",
       "    </tr>\n",
       "    <tr>\n",
       "      <th>4</th>\n",
       "      <td>01M509</td>\n",
       "      <td>MARTA VALLE HIGH SCHOOL</td>\n",
       "      <td>14</td>\n",
       "      <td>15</td>\n",
       "      <td>s</td>\n",
       "    </tr>\n",
       "  </tbody>\n",
       "</table>\n",
       "</div>"
      ],
      "text/plain": [
       "      DBN                                    SCHOOL NAME  \\\n",
       "0  01M292  HENRY STREET SCHOOL FOR INTERNATIONAL STUDIES   \n",
       "1  01M448            UNIVERSITY NEIGHBORHOOD HIGH SCHOOL   \n",
       "2  01M450                     EAST SIDE COMMUNITY SCHOOL   \n",
       "3  01M458                      FORSYTH SATELLITE ACADEMY   \n",
       "4  01M509                        MARTA VALLE HIGH SCHOOL   \n",
       "\n",
       "  Num of AP Test Takers Num of AP Total Exams Taken Num of AP Exams Passed  \n",
       "0                     s                           s                      s  \n",
       "1                    37                          53                     21  \n",
       "2                    12                          12                      s  \n",
       "3                     s                           s                      s  \n",
       "4                    14                          15                      s  "
      ]
     },
     "execution_count": 3,
     "metadata": {},
     "output_type": "execute_result"
    }
   ],
   "source": [
    "csv_fpath1 = os.path.expanduser('~/project/2012__AP_Results.csv')\n",
    "ap = pd.read_csv(csv_fpath1)\n",
    "ap.head(5)"
   ]
  },
  {
   "cell_type": "code",
   "execution_count": 4,
   "metadata": {},
   "outputs": [
    {
     "data": {
      "text/html": [
       "<div>\n",
       "<style scoped>\n",
       "    .dataframe tbody tr th:only-of-type {\n",
       "        vertical-align: middle;\n",
       "    }\n",
       "\n",
       "    .dataframe tbody tr th {\n",
       "        vertical-align: top;\n",
       "    }\n",
       "\n",
       "    .dataframe thead th {\n",
       "        text-align: right;\n",
       "    }\n",
       "</style>\n",
       "<table border=\"1\" class=\"dataframe\">\n",
       "  <thead>\n",
       "    <tr style=\"text-align: right;\">\n",
       "      <th></th>\n",
       "      <th>DBN</th>\n",
       "      <th>SCHOOL NAME</th>\n",
       "      <th>Num of SAT Test Takers</th>\n",
       "      <th>SAT Critical Reading Avg. Score</th>\n",
       "      <th>SAT Math Avg. Score</th>\n",
       "      <th>SAT Writing Avg. Score</th>\n",
       "    </tr>\n",
       "  </thead>\n",
       "  <tbody>\n",
       "    <tr>\n",
       "      <th>0</th>\n",
       "      <td>01M292</td>\n",
       "      <td>HENRY STREET SCHOOL FOR INTERNATIONAL STUDIES</td>\n",
       "      <td>29</td>\n",
       "      <td>355</td>\n",
       "      <td>404</td>\n",
       "      <td>363</td>\n",
       "    </tr>\n",
       "    <tr>\n",
       "      <th>1</th>\n",
       "      <td>01M448</td>\n",
       "      <td>UNIVERSITY NEIGHBORHOOD HIGH SCHOOL</td>\n",
       "      <td>91</td>\n",
       "      <td>383</td>\n",
       "      <td>423</td>\n",
       "      <td>366</td>\n",
       "    </tr>\n",
       "    <tr>\n",
       "      <th>2</th>\n",
       "      <td>01M450</td>\n",
       "      <td>EAST SIDE COMMUNITY SCHOOL</td>\n",
       "      <td>70</td>\n",
       "      <td>377</td>\n",
       "      <td>402</td>\n",
       "      <td>370</td>\n",
       "    </tr>\n",
       "    <tr>\n",
       "      <th>3</th>\n",
       "      <td>01M458</td>\n",
       "      <td>FORSYTH SATELLITE ACADEMY</td>\n",
       "      <td>7</td>\n",
       "      <td>414</td>\n",
       "      <td>401</td>\n",
       "      <td>359</td>\n",
       "    </tr>\n",
       "    <tr>\n",
       "      <th>4</th>\n",
       "      <td>01M509</td>\n",
       "      <td>MARTA VALLE HIGH SCHOOL</td>\n",
       "      <td>44</td>\n",
       "      <td>390</td>\n",
       "      <td>433</td>\n",
       "      <td>384</td>\n",
       "    </tr>\n",
       "  </tbody>\n",
       "</table>\n",
       "</div>"
      ],
      "text/plain": [
       "      DBN                                    SCHOOL NAME  \\\n",
       "0  01M292  HENRY STREET SCHOOL FOR INTERNATIONAL STUDIES   \n",
       "1  01M448            UNIVERSITY NEIGHBORHOOD HIGH SCHOOL   \n",
       "2  01M450                     EAST SIDE COMMUNITY SCHOOL   \n",
       "3  01M458                      FORSYTH SATELLITE ACADEMY   \n",
       "4  01M509                        MARTA VALLE HIGH SCHOOL   \n",
       "\n",
       "  Num of SAT Test Takers SAT Critical Reading Avg. Score SAT Math Avg. Score  \\\n",
       "0                     29                             355                 404   \n",
       "1                     91                             383                 423   \n",
       "2                     70                             377                 402   \n",
       "3                      7                             414                 401   \n",
       "4                     44                             390                 433   \n",
       "\n",
       "  SAT Writing Avg. Score  \n",
       "0                    363  \n",
       "1                    366  \n",
       "2                    370  \n",
       "3                    359  \n",
       "4                    384  "
      ]
     },
     "execution_count": 4,
     "metadata": {},
     "output_type": "execute_result"
    }
   ],
   "source": [
    "csv_fpath2 = os.path.expanduser('~/project/2012_SAT_Results.csv')\n",
    "sat = pd.read_csv(csv_fpath2)\n",
    "sat.head(5)"
   ]
  },
  {
   "cell_type": "markdown",
   "metadata": {},
   "source": [
    "## 3: Initial analysis"
   ]
  },
  {
   "cell_type": "markdown",
   "metadata": {},
   "source": [
    "Question 5: In this section, we will conduct several manipulations of our two datasets. Specifically, we will:\n",
    "1. Join the two dataframes\n",
    "2. Replace missing values with np.NaN\n",
    "3. Drop missing values\n",
    "4. Convert data types\n",
    "5. Create new columns\n",
    "6. Round values to two decimal places\n",
    "\n",
    "I joined the two dataframes so that it would be easier to conduct our analysis later on. In both dataframes, missing values are encoded as the string \"s\", which we can replace to the value np.NaN, and then drop those missing values. I learned that out of the 478 records, we are only left with 174 records that do not contain missing values. Then, I converted the data types of certain columns. Most of the numerical columns in the dataset are stored as strings, which we can convert to integers. Last, I created two new columns to help with our analysis later on, and round those values to two decimal places. "
   ]
  },
  {
   "cell_type": "markdown",
   "metadata": {},
   "source": [
    "## 3.1 Join the two dataframes\n",
    "\n",
    "Because the two dataframes share a common column (DBN), we can join these two dataframes on this column. We will use the pd.concat function. We can double check to see if the DBN column in both dataframes match by running the cell below, which returns the length. If sat.DBN == ap.DBN, True (which contains the value 1) will be returned."
   ]
  },
  {
   "cell_type": "code",
   "execution_count": 4,
   "metadata": {},
   "outputs": [
    {
     "data": {
      "text/plain": [
       "478"
      ]
     },
     "execution_count": 4,
     "metadata": {},
     "output_type": "execute_result"
    }
   ],
   "source": [
    "len(sat.DBN == ap.DBN)"
   ]
  },
  {
   "cell_type": "markdown",
   "metadata": {},
   "source": [
    "We have confirmed that the length of the cell above is equal to the length of both dataframes."
   ]
  },
  {
   "cell_type": "code",
   "execution_count": 5,
   "metadata": {},
   "outputs": [
    {
     "data": {
      "text/plain": [
       "(478, 478)"
      ]
     },
     "execution_count": 5,
     "metadata": {},
     "output_type": "execute_result"
    }
   ],
   "source": [
    "len(sat), len(ap)"
   ]
  },
  {
   "cell_type": "markdown",
   "metadata": {},
   "source": [
    "To make sure that we do not have two columns of 'DBN' and 'SCHOOL NAME', we will delete these columns in one of the dataframes. Then, we will concat."
   ]
  },
  {
   "cell_type": "code",
   "execution_count": 6,
   "metadata": {},
   "outputs": [],
   "source": [
    "sat.drop(columns=['DBN','SCHOOL NAME'], inplace=True)\n",
    "#sat.head()"
   ]
  },
  {
   "cell_type": "markdown",
   "metadata": {},
   "source": [
    "Now concat."
   ]
  },
  {
   "cell_type": "code",
   "execution_count": 7,
   "metadata": {},
   "outputs": [
    {
     "data": {
      "text/html": [
       "<div>\n",
       "<style scoped>\n",
       "    .dataframe tbody tr th:only-of-type {\n",
       "        vertical-align: middle;\n",
       "    }\n",
       "\n",
       "    .dataframe tbody tr th {\n",
       "        vertical-align: top;\n",
       "    }\n",
       "\n",
       "    .dataframe thead th {\n",
       "        text-align: right;\n",
       "    }\n",
       "</style>\n",
       "<table border=\"1\" class=\"dataframe\">\n",
       "  <thead>\n",
       "    <tr style=\"text-align: right;\">\n",
       "      <th></th>\n",
       "      <th>DBN</th>\n",
       "      <th>SCHOOL NAME</th>\n",
       "      <th>Num of AP Test Takers</th>\n",
       "      <th>Num of AP Total Exams Taken</th>\n",
       "      <th>Num of AP Exams Passed</th>\n",
       "      <th>Num of SAT Test Takers</th>\n",
       "      <th>SAT Critical Reading Avg. Score</th>\n",
       "      <th>SAT Math Avg. Score</th>\n",
       "      <th>SAT Writing Avg. Score</th>\n",
       "    </tr>\n",
       "  </thead>\n",
       "  <tbody>\n",
       "    <tr>\n",
       "      <th>0</th>\n",
       "      <td>01M292</td>\n",
       "      <td>HENRY STREET SCHOOL FOR INTERNATIONAL STUDIES</td>\n",
       "      <td>s</td>\n",
       "      <td>s</td>\n",
       "      <td>s</td>\n",
       "      <td>29</td>\n",
       "      <td>355</td>\n",
       "      <td>404</td>\n",
       "      <td>363</td>\n",
       "    </tr>\n",
       "    <tr>\n",
       "      <th>1</th>\n",
       "      <td>01M448</td>\n",
       "      <td>UNIVERSITY NEIGHBORHOOD HIGH SCHOOL</td>\n",
       "      <td>37</td>\n",
       "      <td>53</td>\n",
       "      <td>21</td>\n",
       "      <td>91</td>\n",
       "      <td>383</td>\n",
       "      <td>423</td>\n",
       "      <td>366</td>\n",
       "    </tr>\n",
       "    <tr>\n",
       "      <th>2</th>\n",
       "      <td>01M450</td>\n",
       "      <td>EAST SIDE COMMUNITY SCHOOL</td>\n",
       "      <td>12</td>\n",
       "      <td>12</td>\n",
       "      <td>s</td>\n",
       "      <td>70</td>\n",
       "      <td>377</td>\n",
       "      <td>402</td>\n",
       "      <td>370</td>\n",
       "    </tr>\n",
       "    <tr>\n",
       "      <th>3</th>\n",
       "      <td>01M458</td>\n",
       "      <td>FORSYTH SATELLITE ACADEMY</td>\n",
       "      <td>s</td>\n",
       "      <td>s</td>\n",
       "      <td>s</td>\n",
       "      <td>7</td>\n",
       "      <td>414</td>\n",
       "      <td>401</td>\n",
       "      <td>359</td>\n",
       "    </tr>\n",
       "    <tr>\n",
       "      <th>4</th>\n",
       "      <td>01M509</td>\n",
       "      <td>MARTA VALLE HIGH SCHOOL</td>\n",
       "      <td>14</td>\n",
       "      <td>15</td>\n",
       "      <td>s</td>\n",
       "      <td>44</td>\n",
       "      <td>390</td>\n",
       "      <td>433</td>\n",
       "      <td>384</td>\n",
       "    </tr>\n",
       "  </tbody>\n",
       "</table>\n",
       "</div>"
      ],
      "text/plain": [
       "      DBN                                    SCHOOL NAME  \\\n",
       "0  01M292  HENRY STREET SCHOOL FOR INTERNATIONAL STUDIES   \n",
       "1  01M448            UNIVERSITY NEIGHBORHOOD HIGH SCHOOL   \n",
       "2  01M450                     EAST SIDE COMMUNITY SCHOOL   \n",
       "3  01M458                      FORSYTH SATELLITE ACADEMY   \n",
       "4  01M509                        MARTA VALLE HIGH SCHOOL   \n",
       "\n",
       "  Num of AP Test Takers Num of AP Total Exams Taken Num of AP Exams Passed  \\\n",
       "0                     s                           s                      s   \n",
       "1                    37                          53                     21   \n",
       "2                    12                          12                      s   \n",
       "3                     s                           s                      s   \n",
       "4                    14                          15                      s   \n",
       "\n",
       "  Num of SAT Test Takers SAT Critical Reading Avg. Score SAT Math Avg. Score  \\\n",
       "0                     29                             355                 404   \n",
       "1                     91                             383                 423   \n",
       "2                     70                             377                 402   \n",
       "3                      7                             414                 401   \n",
       "4                     44                             390                 433   \n",
       "\n",
       "  SAT Writing Avg. Score  \n",
       "0                    363  \n",
       "1                    366  \n",
       "2                    370  \n",
       "3                    359  \n",
       "4                    384  "
      ]
     },
     "execution_count": 7,
     "metadata": {},
     "output_type": "execute_result"
    }
   ],
   "source": [
    "data = pd.concat([ap,sat], axis = 1)\n",
    "data.head()"
   ]
  },
  {
   "cell_type": "markdown",
   "metadata": {},
   "source": [
    "## 3.2 Replace missing values\n",
    "\n",
    "Replace the missing values, encoded as 's' to the value np.nan (NaN) and drop them."
   ]
  },
  {
   "cell_type": "code",
   "execution_count": 8,
   "metadata": {},
   "outputs": [
    {
     "data": {
      "text/html": [
       "<div>\n",
       "<style scoped>\n",
       "    .dataframe tbody tr th:only-of-type {\n",
       "        vertical-align: middle;\n",
       "    }\n",
       "\n",
       "    .dataframe tbody tr th {\n",
       "        vertical-align: top;\n",
       "    }\n",
       "\n",
       "    .dataframe thead th {\n",
       "        text-align: right;\n",
       "    }\n",
       "</style>\n",
       "<table border=\"1\" class=\"dataframe\">\n",
       "  <thead>\n",
       "    <tr style=\"text-align: right;\">\n",
       "      <th></th>\n",
       "      <th>DBN</th>\n",
       "      <th>SCHOOL NAME</th>\n",
       "      <th>Num of AP Test Takers</th>\n",
       "      <th>Num of AP Total Exams Taken</th>\n",
       "      <th>Num of AP Exams Passed</th>\n",
       "      <th>Num of SAT Test Takers</th>\n",
       "      <th>SAT Critical Reading Avg. Score</th>\n",
       "      <th>SAT Math Avg. Score</th>\n",
       "      <th>SAT Writing Avg. Score</th>\n",
       "    </tr>\n",
       "  </thead>\n",
       "  <tbody>\n",
       "    <tr>\n",
       "      <th>0</th>\n",
       "      <td>01M292</td>\n",
       "      <td>HENRY STREET SCHOOL FOR INTERNATIONAL STUDIES</td>\n",
       "      <td>NaN</td>\n",
       "      <td>NaN</td>\n",
       "      <td>NaN</td>\n",
       "      <td>29</td>\n",
       "      <td>355</td>\n",
       "      <td>404</td>\n",
       "      <td>363</td>\n",
       "    </tr>\n",
       "    <tr>\n",
       "      <th>1</th>\n",
       "      <td>01M448</td>\n",
       "      <td>UNIVERSITY NEIGHBORHOOD HIGH SCHOOL</td>\n",
       "      <td>37</td>\n",
       "      <td>53</td>\n",
       "      <td>21</td>\n",
       "      <td>91</td>\n",
       "      <td>383</td>\n",
       "      <td>423</td>\n",
       "      <td>366</td>\n",
       "    </tr>\n",
       "    <tr>\n",
       "      <th>2</th>\n",
       "      <td>01M450</td>\n",
       "      <td>EAST SIDE COMMUNITY SCHOOL</td>\n",
       "      <td>12</td>\n",
       "      <td>12</td>\n",
       "      <td>NaN</td>\n",
       "      <td>70</td>\n",
       "      <td>377</td>\n",
       "      <td>402</td>\n",
       "      <td>370</td>\n",
       "    </tr>\n",
       "    <tr>\n",
       "      <th>3</th>\n",
       "      <td>01M458</td>\n",
       "      <td>FORSYTH SATELLITE ACADEMY</td>\n",
       "      <td>NaN</td>\n",
       "      <td>NaN</td>\n",
       "      <td>NaN</td>\n",
       "      <td>7</td>\n",
       "      <td>414</td>\n",
       "      <td>401</td>\n",
       "      <td>359</td>\n",
       "    </tr>\n",
       "    <tr>\n",
       "      <th>4</th>\n",
       "      <td>01M509</td>\n",
       "      <td>MARTA VALLE HIGH SCHOOL</td>\n",
       "      <td>14</td>\n",
       "      <td>15</td>\n",
       "      <td>NaN</td>\n",
       "      <td>44</td>\n",
       "      <td>390</td>\n",
       "      <td>433</td>\n",
       "      <td>384</td>\n",
       "    </tr>\n",
       "  </tbody>\n",
       "</table>\n",
       "</div>"
      ],
      "text/plain": [
       "      DBN                                    SCHOOL NAME  \\\n",
       "0  01M292  HENRY STREET SCHOOL FOR INTERNATIONAL STUDIES   \n",
       "1  01M448            UNIVERSITY NEIGHBORHOOD HIGH SCHOOL   \n",
       "2  01M450                     EAST SIDE COMMUNITY SCHOOL   \n",
       "3  01M458                      FORSYTH SATELLITE ACADEMY   \n",
       "4  01M509                        MARTA VALLE HIGH SCHOOL   \n",
       "\n",
       "  Num of AP Test Takers Num of AP Total Exams Taken Num of AP Exams Passed  \\\n",
       "0                   NaN                         NaN                    NaN   \n",
       "1                    37                          53                     21   \n",
       "2                    12                          12                    NaN   \n",
       "3                   NaN                         NaN                    NaN   \n",
       "4                    14                          15                    NaN   \n",
       "\n",
       "  Num of SAT Test Takers SAT Critical Reading Avg. Score SAT Math Avg. Score  \\\n",
       "0                     29                             355                 404   \n",
       "1                     91                             383                 423   \n",
       "2                     70                             377                 402   \n",
       "3                      7                             414                 401   \n",
       "4                     44                             390                 433   \n",
       "\n",
       "  SAT Writing Avg. Score  \n",
       "0                    363  \n",
       "1                    366  \n",
       "2                    370  \n",
       "3                    359  \n",
       "4                    384  "
      ]
     },
     "execution_count": 8,
     "metadata": {},
     "output_type": "execute_result"
    }
   ],
   "source": [
    "data.replace('s', np.nan,inplace=True)\n",
    "data.head()"
   ]
  },
  {
   "cell_type": "markdown",
   "metadata": {},
   "source": [
    "The cell below checks for any NaN values. Because the cell returns True, we can confirm that there are in fact missing values. For the purpose of our analysis, we will delete these records."
   ]
  },
  {
   "cell_type": "code",
   "execution_count": 9,
   "metadata": {},
   "outputs": [
    {
     "data": {
      "text/plain": [
       "True"
      ]
     },
     "execution_count": 9,
     "metadata": {},
     "output_type": "execute_result"
    }
   ],
   "source": [
    "data.isnull().values.any()"
   ]
  },
  {
   "cell_type": "markdown",
   "metadata": {},
   "source": [
    "## 3.3 Drop missing values"
   ]
  },
  {
   "cell_type": "markdown",
   "metadata": {},
   "source": [
    "To actually drop these missing values, we will use the .dropna() function. After removing these missing values, we are left with 174 observation."
   ]
  },
  {
   "cell_type": "code",
   "execution_count": 10,
   "metadata": {},
   "outputs": [
    {
     "data": {
      "text/plain": [
       "174"
      ]
     },
     "execution_count": 10,
     "metadata": {},
     "output_type": "execute_result"
    }
   ],
   "source": [
    "data.dropna(axis = 0, how = \"any\", inplace = True)\n",
    "len(data)"
   ]
  },
  {
   "cell_type": "code",
   "execution_count": 11,
   "metadata": {},
   "outputs": [
    {
     "data": {
      "text/html": [
       "<div>\n",
       "<style scoped>\n",
       "    .dataframe tbody tr th:only-of-type {\n",
       "        vertical-align: middle;\n",
       "    }\n",
       "\n",
       "    .dataframe tbody tr th {\n",
       "        vertical-align: top;\n",
       "    }\n",
       "\n",
       "    .dataframe thead th {\n",
       "        text-align: right;\n",
       "    }\n",
       "</style>\n",
       "<table border=\"1\" class=\"dataframe\">\n",
       "  <thead>\n",
       "    <tr style=\"text-align: right;\">\n",
       "      <th></th>\n",
       "      <th>DBN</th>\n",
       "      <th>SCHOOL NAME</th>\n",
       "      <th>Num of AP Test Takers</th>\n",
       "      <th>Num of AP Total Exams Taken</th>\n",
       "      <th>Num of AP Exams Passed</th>\n",
       "      <th>Num of SAT Test Takers</th>\n",
       "      <th>SAT Critical Reading Avg. Score</th>\n",
       "      <th>SAT Math Avg. Score</th>\n",
       "      <th>SAT Writing Avg. Score</th>\n",
       "    </tr>\n",
       "  </thead>\n",
       "  <tbody>\n",
       "    <tr>\n",
       "      <th>1</th>\n",
       "      <td>01M448</td>\n",
       "      <td>UNIVERSITY NEIGHBORHOOD HIGH SCHOOL</td>\n",
       "      <td>37</td>\n",
       "      <td>53</td>\n",
       "      <td>21</td>\n",
       "      <td>91</td>\n",
       "      <td>383</td>\n",
       "      <td>423</td>\n",
       "      <td>366</td>\n",
       "    </tr>\n",
       "    <tr>\n",
       "      <th>5</th>\n",
       "      <td>01M515</td>\n",
       "      <td>LOWER EAST SIDE PREPARATORY HIGH SCHOOL</td>\n",
       "      <td>50</td>\n",
       "      <td>60</td>\n",
       "      <td>54</td>\n",
       "      <td>112</td>\n",
       "      <td>332</td>\n",
       "      <td>557</td>\n",
       "      <td>316</td>\n",
       "    </tr>\n",
       "    <tr>\n",
       "      <th>6</th>\n",
       "      <td>01M539</td>\n",
       "      <td>NEW EXPLORATIONS INTO SCIENCE, TECHNOLOGY AND ...</td>\n",
       "      <td>306</td>\n",
       "      <td>587</td>\n",
       "      <td>323</td>\n",
       "      <td>159</td>\n",
       "      <td>522</td>\n",
       "      <td>574</td>\n",
       "      <td>525</td>\n",
       "    </tr>\n",
       "    <tr>\n",
       "      <th>14</th>\n",
       "      <td>02M300</td>\n",
       "      <td>URBAN ASSEMBLY SCHOOL OF DESIGN AND CONSTRUCTI...</td>\n",
       "      <td>135</td>\n",
       "      <td>135</td>\n",
       "      <td>8</td>\n",
       "      <td>48</td>\n",
       "      <td>404</td>\n",
       "      <td>449</td>\n",
       "      <td>416</td>\n",
       "    </tr>\n",
       "    <tr>\n",
       "      <th>16</th>\n",
       "      <td>02M305</td>\n",
       "      <td>URBAN ASSEMBLY ACADEMY OF GOVERNMENT AND LAW, THE</td>\n",
       "      <td>31</td>\n",
       "      <td>40</td>\n",
       "      <td>20</td>\n",
       "      <td>50</td>\n",
       "      <td>375</td>\n",
       "      <td>388</td>\n",
       "      <td>385</td>\n",
       "    </tr>\n",
       "  </tbody>\n",
       "</table>\n",
       "</div>"
      ],
      "text/plain": [
       "       DBN                                        SCHOOL NAME  \\\n",
       "1   01M448                UNIVERSITY NEIGHBORHOOD HIGH SCHOOL   \n",
       "5   01M515            LOWER EAST SIDE PREPARATORY HIGH SCHOOL   \n",
       "6   01M539  NEW EXPLORATIONS INTO SCIENCE, TECHNOLOGY AND ...   \n",
       "14  02M300  URBAN ASSEMBLY SCHOOL OF DESIGN AND CONSTRUCTI...   \n",
       "16  02M305  URBAN ASSEMBLY ACADEMY OF GOVERNMENT AND LAW, THE   \n",
       "\n",
       "   Num of AP Test Takers Num of AP Total Exams Taken Num of AP Exams Passed  \\\n",
       "1                     37                          53                     21   \n",
       "5                     50                          60                     54   \n",
       "6                    306                         587                    323   \n",
       "14                   135                         135                      8   \n",
       "16                    31                          40                     20   \n",
       "\n",
       "   Num of SAT Test Takers SAT Critical Reading Avg. Score SAT Math Avg. Score  \\\n",
       "1                      91                             383                 423   \n",
       "5                     112                             332                 557   \n",
       "6                     159                             522                 574   \n",
       "14                     48                             404                 449   \n",
       "16                     50                             375                 388   \n",
       "\n",
       "   SAT Writing Avg. Score  \n",
       "1                     366  \n",
       "5                     316  \n",
       "6                     525  \n",
       "14                    416  \n",
       "16                    385  "
      ]
     },
     "execution_count": 11,
     "metadata": {},
     "output_type": "execute_result"
    }
   ],
   "source": [
    "data.head()"
   ]
  },
  {
   "cell_type": "markdown",
   "metadata": {},
   "source": [
    "## 3.4 Convert data types"
   ]
  },
  {
   "cell_type": "markdown",
   "metadata": {},
   "source": [
    "Before we create new columns, we first need to ensure that the numerical columns have the correct data type: integers. When we run the cell below, we find that the values stored in these columns are strings."
   ]
  },
  {
   "cell_type": "code",
   "execution_count": 12,
   "metadata": {},
   "outputs": [
    {
     "data": {
      "text/plain": [
       "str"
      ]
     },
     "execution_count": 12,
     "metadata": {},
     "output_type": "execute_result"
    }
   ],
   "source": [
    "type(data['Num of AP Test Takers'][1])"
   ]
  },
  {
   "cell_type": "markdown",
   "metadata": {},
   "source": [
    "We can convert the data type to integers by running the cell below."
   ]
  },
  {
   "cell_type": "code",
   "execution_count": 13,
   "metadata": {},
   "outputs": [],
   "source": [
    "#for the AP columns\n",
    "data['Num of AP Test Takers'] = data['Num of AP Test Takers'].astype(int)\n",
    "data['Num of AP Total Exams Taken'] = data['Num of AP Total Exams Taken'].astype(int)\n",
    "data['Num of AP Exams Passed'] = data['Num of AP Exams Passed'].astype(int)\n",
    "\n",
    "#for the SAT columns\n",
    "data['Num of SAT Test Takers'] = data['Num of SAT Test Takers'].astype(int)\n",
    "data['SAT Critical Reading Avg. Score'] = data['SAT Critical Reading Avg. Score'].astype(int)\n",
    "data['SAT Math Avg. Score'] = data['SAT Math Avg. Score'].astype(int)\n",
    "data['SAT Writing Avg. Score'] = data['SAT Writing Avg. Score'].astype(int)"
   ]
  },
  {
   "cell_type": "markdown",
   "metadata": {},
   "source": [
    "Double check the data type, and indeed they are now integers."
   ]
  },
  {
   "cell_type": "code",
   "execution_count": 14,
   "metadata": {},
   "outputs": [
    {
     "data": {
      "text/plain": [
       "numpy.int64"
      ]
     },
     "execution_count": 14,
     "metadata": {},
     "output_type": "execute_result"
    }
   ],
   "source": [
    "type(data['Num of AP Test Takers'][1])"
   ]
  },
  {
   "cell_type": "markdown",
   "metadata": {},
   "source": [
    "## 3.5 Create new columns\n",
    "\n",
    "To help with our analysis, we will create two new columns in our dataframe.\n",
    "\n",
    "1. Create a column that counts the percentage of AP exams passed for every school.\n",
    "2. Create a column that sums the SAT total average score for every school."
   ]
  },
  {
   "cell_type": "markdown",
   "metadata": {},
   "source": [
    "To count the percentage of AP exams passed in every school, we can divide 'Num of AP exams Passed' with 'Num of AP Total Exams Taken' multiplied by 100. This result will give us a percentage.\n",
    "\n",
    "To count the SAT total average score for every school, we can simply sum the columns: SAT Critical Reading Avg. Score, SAT Math Avg. Score, and SAT Writing Avg. Score, which will give us a score out of a possible score of 2400 (the old SAT scoring system)."
   ]
  },
  {
   "cell_type": "code",
   "execution_count": 15,
   "metadata": {},
   "outputs": [
    {
     "data": {
      "text/html": [
       "<div>\n",
       "<style scoped>\n",
       "    .dataframe tbody tr th:only-of-type {\n",
       "        vertical-align: middle;\n",
       "    }\n",
       "\n",
       "    .dataframe tbody tr th {\n",
       "        vertical-align: top;\n",
       "    }\n",
       "\n",
       "    .dataframe thead th {\n",
       "        text-align: right;\n",
       "    }\n",
       "</style>\n",
       "<table border=\"1\" class=\"dataframe\">\n",
       "  <thead>\n",
       "    <tr style=\"text-align: right;\">\n",
       "      <th></th>\n",
       "      <th>DBN</th>\n",
       "      <th>SCHOOL NAME</th>\n",
       "      <th>Num of AP Test Takers</th>\n",
       "      <th>Num of AP Total Exams Taken</th>\n",
       "      <th>Num of AP Exams Passed</th>\n",
       "      <th>Num of SAT Test Takers</th>\n",
       "      <th>SAT Critical Reading Avg. Score</th>\n",
       "      <th>SAT Math Avg. Score</th>\n",
       "      <th>SAT Writing Avg. Score</th>\n",
       "      <th>Percentage of AP Exams Passed</th>\n",
       "      <th>SAT Total Avg. Score</th>\n",
       "    </tr>\n",
       "  </thead>\n",
       "  <tbody>\n",
       "    <tr>\n",
       "      <th>1</th>\n",
       "      <td>01M448</td>\n",
       "      <td>UNIVERSITY NEIGHBORHOOD HIGH SCHOOL</td>\n",
       "      <td>37</td>\n",
       "      <td>53</td>\n",
       "      <td>21</td>\n",
       "      <td>91</td>\n",
       "      <td>383</td>\n",
       "      <td>423</td>\n",
       "      <td>366</td>\n",
       "      <td>39.622642</td>\n",
       "      <td>1172</td>\n",
       "    </tr>\n",
       "    <tr>\n",
       "      <th>5</th>\n",
       "      <td>01M515</td>\n",
       "      <td>LOWER EAST SIDE PREPARATORY HIGH SCHOOL</td>\n",
       "      <td>50</td>\n",
       "      <td>60</td>\n",
       "      <td>54</td>\n",
       "      <td>112</td>\n",
       "      <td>332</td>\n",
       "      <td>557</td>\n",
       "      <td>316</td>\n",
       "      <td>90.000000</td>\n",
       "      <td>1205</td>\n",
       "    </tr>\n",
       "    <tr>\n",
       "      <th>6</th>\n",
       "      <td>01M539</td>\n",
       "      <td>NEW EXPLORATIONS INTO SCIENCE, TECHNOLOGY AND ...</td>\n",
       "      <td>306</td>\n",
       "      <td>587</td>\n",
       "      <td>323</td>\n",
       "      <td>159</td>\n",
       "      <td>522</td>\n",
       "      <td>574</td>\n",
       "      <td>525</td>\n",
       "      <td>55.025554</td>\n",
       "      <td>1621</td>\n",
       "    </tr>\n",
       "    <tr>\n",
       "      <th>14</th>\n",
       "      <td>02M300</td>\n",
       "      <td>URBAN ASSEMBLY SCHOOL OF DESIGN AND CONSTRUCTI...</td>\n",
       "      <td>135</td>\n",
       "      <td>135</td>\n",
       "      <td>8</td>\n",
       "      <td>48</td>\n",
       "      <td>404</td>\n",
       "      <td>449</td>\n",
       "      <td>416</td>\n",
       "      <td>5.925926</td>\n",
       "      <td>1269</td>\n",
       "    </tr>\n",
       "    <tr>\n",
       "      <th>16</th>\n",
       "      <td>02M305</td>\n",
       "      <td>URBAN ASSEMBLY ACADEMY OF GOVERNMENT AND LAW, THE</td>\n",
       "      <td>31</td>\n",
       "      <td>40</td>\n",
       "      <td>20</td>\n",
       "      <td>50</td>\n",
       "      <td>375</td>\n",
       "      <td>388</td>\n",
       "      <td>385</td>\n",
       "      <td>50.000000</td>\n",
       "      <td>1148</td>\n",
       "    </tr>\n",
       "  </tbody>\n",
       "</table>\n",
       "</div>"
      ],
      "text/plain": [
       "       DBN                                        SCHOOL NAME  \\\n",
       "1   01M448                UNIVERSITY NEIGHBORHOOD HIGH SCHOOL   \n",
       "5   01M515            LOWER EAST SIDE PREPARATORY HIGH SCHOOL   \n",
       "6   01M539  NEW EXPLORATIONS INTO SCIENCE, TECHNOLOGY AND ...   \n",
       "14  02M300  URBAN ASSEMBLY SCHOOL OF DESIGN AND CONSTRUCTI...   \n",
       "16  02M305  URBAN ASSEMBLY ACADEMY OF GOVERNMENT AND LAW, THE   \n",
       "\n",
       "    Num of AP Test Takers  Num of AP Total Exams Taken  \\\n",
       "1                      37                           53   \n",
       "5                      50                           60   \n",
       "6                     306                          587   \n",
       "14                    135                          135   \n",
       "16                     31                           40   \n",
       "\n",
       "    Num of AP Exams Passed  Num of SAT Test Takers  \\\n",
       "1                       21                      91   \n",
       "5                       54                     112   \n",
       "6                      323                     159   \n",
       "14                       8                      48   \n",
       "16                      20                      50   \n",
       "\n",
       "    SAT Critical Reading Avg. Score  SAT Math Avg. Score  \\\n",
       "1                               383                  423   \n",
       "5                               332                  557   \n",
       "6                               522                  574   \n",
       "14                              404                  449   \n",
       "16                              375                  388   \n",
       "\n",
       "    SAT Writing Avg. Score  Percentage of AP Exams Passed  \\\n",
       "1                      366                      39.622642   \n",
       "5                      316                      90.000000   \n",
       "6                      525                      55.025554   \n",
       "14                     416                       5.925926   \n",
       "16                     385                      50.000000   \n",
       "\n",
       "    SAT Total Avg. Score  \n",
       "1                   1172  \n",
       "5                   1205  \n",
       "6                   1621  \n",
       "14                  1269  \n",
       "16                  1148  "
      ]
     },
     "execution_count": 15,
     "metadata": {},
     "output_type": "execute_result"
    }
   ],
   "source": [
    "#for the percentage of AP exams passed\n",
    "data['Percentage of AP Exams Passed'] = (data['Num of AP Exams Passed'] / data['Num of AP Total Exams Taken']) * 100\n",
    "\n",
    "#for the total SAT average score\n",
    "data['SAT Total Avg. Score'] = data['SAT Critical Reading Avg. Score']+data['SAT Math Avg. Score']+data['SAT Writing Avg. Score']\n",
    "\n",
    "#check\n",
    "data.head()"
   ]
  },
  {
   "cell_type": "markdown",
   "metadata": {},
   "source": [
    "## 3.6 Round values to two decimal places"
   ]
  },
  {
   "cell_type": "markdown",
   "metadata": {},
   "source": [
    "Because values in the column 'Percentage of AP Exams Passed' are stored as floats, we can round to two decimal places."
   ]
  },
  {
   "cell_type": "code",
   "execution_count": 16,
   "metadata": {},
   "outputs": [
    {
     "data": {
      "text/html": [
       "<div>\n",
       "<style scoped>\n",
       "    .dataframe tbody tr th:only-of-type {\n",
       "        vertical-align: middle;\n",
       "    }\n",
       "\n",
       "    .dataframe tbody tr th {\n",
       "        vertical-align: top;\n",
       "    }\n",
       "\n",
       "    .dataframe thead th {\n",
       "        text-align: right;\n",
       "    }\n",
       "</style>\n",
       "<table border=\"1\" class=\"dataframe\">\n",
       "  <thead>\n",
       "    <tr style=\"text-align: right;\">\n",
       "      <th></th>\n",
       "      <th>DBN</th>\n",
       "      <th>SCHOOL NAME</th>\n",
       "      <th>Num of AP Test Takers</th>\n",
       "      <th>Num of AP Total Exams Taken</th>\n",
       "      <th>Num of AP Exams Passed</th>\n",
       "      <th>Num of SAT Test Takers</th>\n",
       "      <th>SAT Critical Reading Avg. Score</th>\n",
       "      <th>SAT Math Avg. Score</th>\n",
       "      <th>SAT Writing Avg. Score</th>\n",
       "      <th>Percentage of AP Exams Passed</th>\n",
       "      <th>SAT Total Avg. Score</th>\n",
       "    </tr>\n",
       "  </thead>\n",
       "  <tbody>\n",
       "    <tr>\n",
       "      <th>1</th>\n",
       "      <td>01M448</td>\n",
       "      <td>UNIVERSITY NEIGHBORHOOD HIGH SCHOOL</td>\n",
       "      <td>37</td>\n",
       "      <td>53</td>\n",
       "      <td>21</td>\n",
       "      <td>91</td>\n",
       "      <td>383</td>\n",
       "      <td>423</td>\n",
       "      <td>366</td>\n",
       "      <td>39.62</td>\n",
       "      <td>1172</td>\n",
       "    </tr>\n",
       "    <tr>\n",
       "      <th>5</th>\n",
       "      <td>01M515</td>\n",
       "      <td>LOWER EAST SIDE PREPARATORY HIGH SCHOOL</td>\n",
       "      <td>50</td>\n",
       "      <td>60</td>\n",
       "      <td>54</td>\n",
       "      <td>112</td>\n",
       "      <td>332</td>\n",
       "      <td>557</td>\n",
       "      <td>316</td>\n",
       "      <td>90.00</td>\n",
       "      <td>1205</td>\n",
       "    </tr>\n",
       "    <tr>\n",
       "      <th>6</th>\n",
       "      <td>01M539</td>\n",
       "      <td>NEW EXPLORATIONS INTO SCIENCE, TECHNOLOGY AND ...</td>\n",
       "      <td>306</td>\n",
       "      <td>587</td>\n",
       "      <td>323</td>\n",
       "      <td>159</td>\n",
       "      <td>522</td>\n",
       "      <td>574</td>\n",
       "      <td>525</td>\n",
       "      <td>55.03</td>\n",
       "      <td>1621</td>\n",
       "    </tr>\n",
       "    <tr>\n",
       "      <th>14</th>\n",
       "      <td>02M300</td>\n",
       "      <td>URBAN ASSEMBLY SCHOOL OF DESIGN AND CONSTRUCTI...</td>\n",
       "      <td>135</td>\n",
       "      <td>135</td>\n",
       "      <td>8</td>\n",
       "      <td>48</td>\n",
       "      <td>404</td>\n",
       "      <td>449</td>\n",
       "      <td>416</td>\n",
       "      <td>5.93</td>\n",
       "      <td>1269</td>\n",
       "    </tr>\n",
       "    <tr>\n",
       "      <th>16</th>\n",
       "      <td>02M305</td>\n",
       "      <td>URBAN ASSEMBLY ACADEMY OF GOVERNMENT AND LAW, THE</td>\n",
       "      <td>31</td>\n",
       "      <td>40</td>\n",
       "      <td>20</td>\n",
       "      <td>50</td>\n",
       "      <td>375</td>\n",
       "      <td>388</td>\n",
       "      <td>385</td>\n",
       "      <td>50.00</td>\n",
       "      <td>1148</td>\n",
       "    </tr>\n",
       "  </tbody>\n",
       "</table>\n",
       "</div>"
      ],
      "text/plain": [
       "       DBN                                        SCHOOL NAME  \\\n",
       "1   01M448                UNIVERSITY NEIGHBORHOOD HIGH SCHOOL   \n",
       "5   01M515            LOWER EAST SIDE PREPARATORY HIGH SCHOOL   \n",
       "6   01M539  NEW EXPLORATIONS INTO SCIENCE, TECHNOLOGY AND ...   \n",
       "14  02M300  URBAN ASSEMBLY SCHOOL OF DESIGN AND CONSTRUCTI...   \n",
       "16  02M305  URBAN ASSEMBLY ACADEMY OF GOVERNMENT AND LAW, THE   \n",
       "\n",
       "    Num of AP Test Takers  Num of AP Total Exams Taken  \\\n",
       "1                      37                           53   \n",
       "5                      50                           60   \n",
       "6                     306                          587   \n",
       "14                    135                          135   \n",
       "16                     31                           40   \n",
       "\n",
       "    Num of AP Exams Passed  Num of SAT Test Takers  \\\n",
       "1                       21                      91   \n",
       "5                       54                     112   \n",
       "6                      323                     159   \n",
       "14                       8                      48   \n",
       "16                      20                      50   \n",
       "\n",
       "    SAT Critical Reading Avg. Score  SAT Math Avg. Score  \\\n",
       "1                               383                  423   \n",
       "5                               332                  557   \n",
       "6                               522                  574   \n",
       "14                              404                  449   \n",
       "16                              375                  388   \n",
       "\n",
       "    SAT Writing Avg. Score  Percentage of AP Exams Passed  \\\n",
       "1                      366                          39.62   \n",
       "5                      316                          90.00   \n",
       "6                      525                          55.03   \n",
       "14                     416                           5.93   \n",
       "16                     385                          50.00   \n",
       "\n",
       "    SAT Total Avg. Score  \n",
       "1                   1172  \n",
       "5                   1205  \n",
       "6                   1621  \n",
       "14                  1269  \n",
       "16                  1148  "
      ]
     },
     "execution_count": 16,
     "metadata": {},
     "output_type": "execute_result"
    }
   ],
   "source": [
    "data['Percentage of AP Exams Passed'] = data['Percentage of AP Exams Passed'].round(decimals=2)\n",
    "data.head()"
   ]
  },
  {
   "cell_type": "markdown",
   "metadata": {},
   "source": [
    "## Data visualization"
   ]
  },
  {
   "cell_type": "code",
   "execution_count": 17,
   "metadata": {},
   "outputs": [],
   "source": [
    "#import packages\n",
    "import matplotlib.pyplot as plt\n",
    "import seaborn as sns"
   ]
  },
  {
   "cell_type": "markdown",
   "metadata": {},
   "source": [
    "## Scatter plot"
   ]
  },
  {
   "cell_type": "markdown",
   "metadata": {},
   "source": [
    "The first visualization I made is a scatterplot. I generated this scatterplot because I wanted to see if there was any correlation between the percentage of AP exams passed and SAT total average score. Each point in the scatter plot represents one record in our dataset. I chose a scatter plot because it is the most appropriate graph to visualize relationships between the two variables. \n",
    "\n",
    "From this scatter plot, I learned that there is somewhat a correlation between percentage of AP exams passed and SAT total average score. For instance, there does not seem to be much correlation for schools with a low percentage of AP exams passed. But for schools where they had a high percentage of AP exams passed (the right half of the scatter plot), they also have a high SAT total average score. Although this scatter plot does not actually provide us with the actual correlation (r value), this scatter plot confirms that these two variables are worth exploring. "
   ]
  },
  {
   "cell_type": "code",
   "execution_count": 18,
   "metadata": {},
   "outputs": [
    {
     "data": {
      "text/plain": [
       "Text(0.5, 1.0, 'Scatter plot of percentage of AP exams passed and average total SAT score')"
      ]
     },
     "execution_count": 18,
     "metadata": {},
     "output_type": "execute_result"
    },
    {
     "data": {
      "image/png": "[encoded data removed]",
      "text/plain": [
       "<Figure size 720x504 with 1 Axes>"
      ]
     },
     "metadata": {
      "needs_background": "light"
     },
     "output_type": "display_data"
    }
   ],
   "source": [
    "plt.figure(figsize=(10,7))\n",
    "ax1 = sns.scatterplot(x=data['Percentage of AP Exams Passed'], y=data['SAT Total Avg. Score'])\n",
    "#ax1.set_xlabel(\"Percentage of AP Exams Passed\")\n",
    "#ax1.set_ylabel(\"SAT Total Avg. Score\")\n",
    "ax1.set_title(\"Scatter plot of percentage of AP exams passed and average total SAT score\")"
   ]
  },
  {
   "cell_type": "markdown",
   "metadata": {},
   "source": [
    "## Distribution plot"
   ]
  },
  {
   "cell_type": "markdown",
   "metadata": {},
   "source": [
    "The second visualization I made is a distribution plot of SAT total average score. I chose a distribution plot because I wanted to see if the distribution would be normally distributed with most of the values centered around the mean. The distribution plot below confirms that SAT total average scores follow a normal distribution, with a mean centered slightly above 1200. This information is helpful because I can conlude that only a small fraction of schools have high SAT total average scores (represented on the right tail of the distribution plot). This result is also comparable to the distribution of grades for any college class, where the grades are curved. "
   ]
  },
  {
   "cell_type": "code",
   "execution_count": 19,
   "metadata": {},
   "outputs": [
    {
     "data": {
      "text/plain": [
       "Text(0.5, 1.0, 'Distribution plot of SAT total average score')"
      ]
     },
     "execution_count": 19,
     "metadata": {},
     "output_type": "execute_result"
    },
    {
     "data": {
      "image/png": "[encoded data removed]",
      "text/plain": [
       "<Figure size 720x504 with 1 Axes>"
      ]
     },
     "metadata": {
      "needs_background": "light"
     },
     "output_type": "display_data"
    }
   ],
   "source": [
    "plt.figure(figsize=(10,7))\n",
    "ax2 = sns.distplot(data['SAT Total Avg. Score'])\n",
    "ax2.set_title(\"Distribution plot of SAT total average score\")"
   ]
  },
  {
   "cell_type": "markdown",
   "metadata": {},
   "source": [
    "## 4: Hypothesis formation"
   ]
  },
  {
   "cell_type": "markdown",
   "metadata": {},
   "source": [
    "Question 7: The dependent variable in this dataset is SAT total average score for a school, and the independent variable is the percentage of AP exams passed in a school. In this dataset, the SAT scores are measured out of a highest possible score of 2400, and the passed AP exams are stored as a percentage."
   ]
  },
  {
   "cell_type": "markdown",
   "metadata": {},
   "source": [
    "Question 8: To calculate the correlation coefficient, we will need to transform our variables to standard units. I decided to convert to standard units because the SAT scores are stored as values out of 2400, and the AP exams are stored as a percentage of those exams that passed. We can convert to standard units by running the cell below. "
   ]
  },
  {
   "cell_type": "code",
   "execution_count": 20,
   "metadata": {},
   "outputs": [],
   "source": [
    "def transform_to_standard_units(array):\n",
    "    return (array - np.mean(array)) / np.std(array)\n",
    "\n",
    "ap_standard_units = transform_to_standard_units(data[\"SAT Total Avg. Score\"])\n",
    "sat_standard_units = transform_to_standard_units(data[\"Percentage of AP Exams Passed\"])"
   ]
  },
  {
   "cell_type": "markdown",
   "metadata": {},
   "source": [
    "Store results in a dataframe called standard_data."
   ]
  },
  {
   "cell_type": "code",
   "execution_count": 21,
   "metadata": {},
   "outputs": [
    {
     "data": {
      "text/html": [
       "<div>\n",
       "<style scoped>\n",
       "    .dataframe tbody tr th:only-of-type {\n",
       "        vertical-align: middle;\n",
       "    }\n",
       "\n",
       "    .dataframe tbody tr th {\n",
       "        vertical-align: top;\n",
       "    }\n",
       "\n",
       "    .dataframe thead th {\n",
       "        text-align: right;\n",
       "    }\n",
       "</style>\n",
       "<table border=\"1\" class=\"dataframe\">\n",
       "  <thead>\n",
       "    <tr style=\"text-align: right;\">\n",
       "      <th></th>\n",
       "      <th>AP</th>\n",
       "      <th>SAT</th>\n",
       "    </tr>\n",
       "  </thead>\n",
       "  <tbody>\n",
       "    <tr>\n",
       "      <th>1</th>\n",
       "      <td>-0.584181</td>\n",
       "      <td>-0.072688</td>\n",
       "    </tr>\n",
       "    <tr>\n",
       "      <th>5</th>\n",
       "      <td>-0.422268</td>\n",
       "      <td>2.190880</td>\n",
       "    </tr>\n",
       "    <tr>\n",
       "      <th>6</th>\n",
       "      <td>1.618829</td>\n",
       "      <td>0.619681</td>\n",
       "    </tr>\n",
       "    <tr>\n",
       "      <th>14</th>\n",
       "      <td>-0.108253</td>\n",
       "      <td>-1.586377</td>\n",
       "    </tr>\n",
       "    <tr>\n",
       "      <th>16</th>\n",
       "      <td>-0.701937</td>\n",
       "      <td>0.393684</td>\n",
       "    </tr>\n",
       "  </tbody>\n",
       "</table>\n",
       "</div>"
      ],
      "text/plain": [
       "          AP       SAT\n",
       "1  -0.584181 -0.072688\n",
       "5  -0.422268  2.190880\n",
       "6   1.618829  0.619681\n",
       "14 -0.108253 -1.586377\n",
       "16 -0.701937  0.393684"
      ]
     },
     "execution_count": 21,
     "metadata": {},
     "output_type": "execute_result"
    }
   ],
   "source": [
    "standard_data = pd.DataFrame(data = { \"AP\" : ap_standard_units, \"SAT\" : sat_standard_units})\n",
    "standard_data.head()"
   ]
  },
  {
   "cell_type": "markdown",
   "metadata": {},
   "source": [
    "## Calculating the correlation"
   ]
  },
  {
   "cell_type": "markdown",
   "metadata": {},
   "source": [
    "To calculate the correlation (r), we can multiple the AP column and the SAT column and take the mean."
   ]
  },
  {
   "cell_type": "code",
   "execution_count": 22,
   "metadata": {},
   "outputs": [
    {
     "data": {
      "text/plain": [
       "0.5057605774444344"
      ]
     },
     "execution_count": 22,
     "metadata": {},
     "output_type": "execute_result"
    }
   ],
   "source": [
    "r = np.mean(standard_data['AP'] * standard_data['SAT'])\n",
    "r"
   ]
  },
  {
   "cell_type": "markdown",
   "metadata": {},
   "source": [
    "We can interpret the correlation as being moderate and positive. The correlation is moderate because r takes the value of 0.5. The correlation is also positive because the value is a positive integer, meaning that a higher percentage of AP exams passed would correlate positively with a higher SAT total average score. We can conclude that there is a positive relationship between the percentage of AP exams passed and SAT total average score."
   ]
  },
  {
   "cell_type": "markdown",
   "metadata": {},
   "source": [
    "## Writing the regression model"
   ]
  },
  {
   "cell_type": "markdown",
   "metadata": {},
   "source": [
    "Question 9: The regression model is a simple line equation of $y = mx + b$\n",
    "\n",
    "The thing we are predicting $y$ is the predicted SAT total average score. Our intercept term is $b$, and to predict $y$, we use $x$, which is the percentage of AP exams passed. $m$ in this case is just the slope.\n",
    "\n",
    "Therefore, we can write our regression model as below:<br>\n",
    "$Total\\_SAT\\_average\\_score_i = \\alpha + \\beta*percentage\\_of\\_AP\\_exams\\_passed_i + e_i$ <br>\n",
    "where $\\alpha$ is our intercept, $\\beta$ is our slope, and $e_i$ is our residual term."
   ]
  },
  {
   "cell_type": "markdown",
   "metadata": {},
   "source": [
    "We can predict our intercept and slope by fitting a regression model."
   ]
  },
  {
   "cell_type": "code",
   "execution_count": 23,
   "metadata": {},
   "outputs": [
    {
     "name": "stdout",
     "output_type": "stream",
     "text": [
      "const                            1100.075291\n",
      "Percentage of AP Exams Passed       4.631378\n",
      "dtype: float64\n"
     ]
    },
    {
     "name": "stderr",
     "output_type": "stream",
     "text": [
      "/opt/conda/envs/dsua-111/lib/python3.7/site-packages/numpy/core/fromnumeric.py:2542: FutureWarning: Method .ptp is deprecated and will be removed in a future version. Use numpy.ptp instead.\n",
      "  return ptp(axis=axis, out=out, **kwargs)\n"
     ]
    }
   ],
   "source": [
    "x = data[\"Percentage of AP Exams Passed\"] #independent variable\n",
    "y = data[\"SAT Total Avg. Score\"] #dependent variable\n",
    "\n",
    "X = sm.add_constant(x) #adding an intercept to the indepedent variable\n",
    "model = sm.OLS(y,X, missing = 'drop') #fitting the model\n",
    "results = model.fit() \n",
    "print(results.params)"
   ]
  },
  {
   "cell_type": "markdown",
   "metadata": {},
   "source": [
    "From the celll above, we find that the intercept in our regression model is 1100.075 and out slope is 4.63. We can confirm our slope and intercept using simple mathematics below. "
   ]
  },
  {
   "cell_type": "code",
   "execution_count": 24,
   "metadata": {},
   "outputs": [
    {
     "name": "stdout",
     "output_type": "stream",
     "text": [
      "Slope: 4.631378307719665 \n",
      " Intercept: 1100.0752914847958\n"
     ]
    }
   ],
   "source": [
    "SAT_mean = np.mean(data[\"SAT Total Avg. Score\"])\n",
    "AP_mean = np.mean(data[\"Percentage of AP Exams Passed\"])\n",
    "\n",
    "\n",
    "SAT_std = np.std(data[\"SAT Total Avg. Score\"])\n",
    "AP_std = np.std(data[\"Percentage of AP Exams Passed\"])\n",
    "\n",
    "slope = (r * SAT_std) / AP_std\n",
    "intercept = SAT_mean - slope * AP_mean\n",
    "\n",
    "print(\"Slope:\", slope, \"\\n\", \"Intercept:\", intercept)"
   ]
  },
  {
   "cell_type": "markdown",
   "metadata": {},
   "source": [
    "Using both methods yield the same results."
   ]
  },
  {
   "cell_type": "markdown",
   "metadata": {},
   "source": [
    "## The null and alternative hypotheses."
   ]
  },
  {
   "cell_type": "markdown",
   "metadata": {},
   "source": [
    "Question 10: Now we can write our null and alternative hypothesis.\n",
    "\n",
    "Null hypothesis: a higher percentage of passed AP exams is not associated with a higher total average SAT score. <br>\n",
    "Alternative hypthesis: a higher percentage of passed AP exams is associated with a higher total average SAT score."
   ]
  },
  {
   "cell_type": "markdown",
   "metadata": {},
   "source": [
    "## 5: Regression analysis"
   ]
  },
  {
   "cell_type": "markdown",
   "metadata": {},
   "source": [
    "Question 11: Since we have our slope and intercept, we can estimate a regression output. The mean percentage of AP exams passed is 41.24. With this value, we will estimate the SAT total average score. We can do so using the simple regression equation. "
   ]
  },
  {
   "cell_type": "code",
   "execution_count": 25,
   "metadata": {},
   "outputs": [
    {
     "name": "stdout",
     "output_type": "stream",
     "text": [
      "1100.0752914847958 4.631378307719665\n"
     ]
    }
   ],
   "source": [
    "intercept2 = results.params[0]\n",
    "slope2 = results.params[1]\n",
    "\n",
    "print(intercept,slope)"
   ]
  },
  {
   "cell_type": "code",
   "execution_count": 26,
   "metadata": {},
   "outputs": [
    {
     "data": {
      "text/plain": [
       "1291.0733328951553"
      ]
     },
     "execution_count": 26,
     "metadata": {},
     "output_type": "execute_result"
    }
   ],
   "source": [
    "#the mean percentage of AP exams passed (stored in variable AP_mean) is 41.24\n",
    "#estimate regression equation with value of 41\n",
    "\n",
    "estimate_41 = intercept2 + slope2 * 41.24\n",
    "estimate_41"
   ]
  },
  {
   "cell_type": "markdown",
   "metadata": {},
   "source": [
    "Our regression output when the input is 41.24 is 1291. This output means that if a school happens to have 41.24% of its AP exams passed, then we can estimate that for that same school, its SAT total average score is 1291. "
   ]
  },
  {
   "cell_type": "markdown",
   "metadata": {},
   "source": [
    "## Interpreting the coefficient, p-value, and confidence interval, and the R^2"
   ]
  },
  {
   "cell_type": "markdown",
   "metadata": {},
   "source": [
    "Question 12: We can estimate our coefficient, p-value, and confidence interval by using the .summary() and .corr() function. Using our model, which is stored in 'results', we can compute results.summary() below."
   ]
  },
  {
   "cell_type": "code",
   "execution_count": 35,
   "metadata": {},
   "outputs": [
    {
     "data": {
      "text/html": [
       "<div>\n",
       "<style scoped>\n",
       "    .dataframe tbody tr th:only-of-type {\n",
       "        vertical-align: middle;\n",
       "    }\n",
       "\n",
       "    .dataframe tbody tr th {\n",
       "        vertical-align: top;\n",
       "    }\n",
       "\n",
       "    .dataframe thead th {\n",
       "        text-align: right;\n",
       "    }\n",
       "</style>\n",
       "<table border=\"1\" class=\"dataframe\">\n",
       "  <thead>\n",
       "    <tr style=\"text-align: right;\">\n",
       "      <th></th>\n",
       "      <th>AP</th>\n",
       "      <th>SAT</th>\n",
       "    </tr>\n",
       "  </thead>\n",
       "  <tbody>\n",
       "    <tr>\n",
       "      <th>AP</th>\n",
       "      <td>1.000000</td>\n",
       "      <td>0.505761</td>\n",
       "    </tr>\n",
       "    <tr>\n",
       "      <th>SAT</th>\n",
       "      <td>0.505761</td>\n",
       "      <td>1.000000</td>\n",
       "    </tr>\n",
       "  </tbody>\n",
       "</table>\n",
       "</div>"
      ],
      "text/plain": [
       "           AP       SAT\n",
       "AP   1.000000  0.505761\n",
       "SAT  0.505761  1.000000"
      ]
     },
     "execution_count": 35,
     "metadata": {},
     "output_type": "execute_result"
    }
   ],
   "source": [
    "standard_data.corr()"
   ]
  },
  {
   "cell_type": "code",
   "execution_count": 27,
   "metadata": {},
   "outputs": [
    {
     "data": {
      "text/html": [
       "<table class=\"simpletable\">\n",
       "<caption>OLS Regression Results</caption>\n",
       "<tr>\n",
       "  <th>Dep. Variable:</th>    <td>SAT Total Avg. Score</td> <th>  R-squared:         </th> <td>   0.256</td>\n",
       "</tr>\n",
       "<tr>\n",
       "  <th>Model:</th>                     <td>OLS</td>         <th>  Adj. R-squared:    </th> <td>   0.251</td>\n",
       "</tr>\n",
       "<tr>\n",
       "  <th>Method:</th>               <td>Least Squares</td>    <th>  F-statistic:       </th> <td>   59.12</td>\n",
       "</tr>\n",
       "<tr>\n",
       "  <th>Date:</th>               <td>Wed, 06 May 2020</td>   <th>  Prob (F-statistic):</th> <td>1.09e-12</td>\n",
       "</tr>\n",
       "<tr>\n",
       "  <th>Time:</th>                   <td>18:48:50</td>       <th>  Log-Likelihood:    </th> <td> -1146.4</td>\n",
       "</tr>\n",
       "<tr>\n",
       "  <th>No. Observations:</th>        <td>   174</td>        <th>  AIC:               </th> <td>   2297.</td>\n",
       "</tr>\n",
       "<tr>\n",
       "  <th>Df Residuals:</th>            <td>   172</td>        <th>  BIC:               </th> <td>   2303.</td>\n",
       "</tr>\n",
       "<tr>\n",
       "  <th>Df Model:</th>                <td>     1</td>        <th>                     </th>     <td> </td>   \n",
       "</tr>\n",
       "<tr>\n",
       "  <th>Covariance Type:</th>        <td>nonrobust</td>      <th>                     </th>     <td> </td>   \n",
       "</tr>\n",
       "</table>\n",
       "<table class=\"simpletable\">\n",
       "<tr>\n",
       "                <td></td>                   <th>coef</th>     <th>std err</th>      <th>t</th>      <th>P>|t|</th>  <th>[0.025</th>    <th>0.975]</th>  \n",
       "</tr>\n",
       "<tr>\n",
       "  <th>const</th>                         <td> 1100.0753</td> <td>   28.226</td> <td>   38.973</td> <td> 0.000</td> <td> 1044.360</td> <td> 1155.790</td>\n",
       "</tr>\n",
       "<tr>\n",
       "  <th>Percentage of AP Exams Passed</th> <td>    4.6314</td> <td>    0.602</td> <td>    7.689</td> <td> 0.000</td> <td>    3.442</td> <td>    5.820</td>\n",
       "</tr>\n",
       "</table>\n",
       "<table class=\"simpletable\">\n",
       "<tr>\n",
       "  <th>Omnibus:</th>       <td> 6.613</td> <th>  Durbin-Watson:     </th> <td>   1.685</td>\n",
       "</tr>\n",
       "<tr>\n",
       "  <th>Prob(Omnibus):</th> <td> 0.037</td> <th>  Jarque-Bera (JB):  </th> <td>  10.602</td>\n",
       "</tr>\n",
       "<tr>\n",
       "  <th>Skew:</th>          <td> 0.095</td> <th>  Prob(JB):          </th> <td> 0.00499</td>\n",
       "</tr>\n",
       "<tr>\n",
       "  <th>Kurtosis:</th>      <td> 4.194</td> <th>  Cond. No.          </th> <td>    98.7</td>\n",
       "</tr>\n",
       "</table><br/><br/>Warnings:<br/>[1] Standard Errors assume that the covariance matrix of the errors is correctly specified."
      ],
      "text/plain": [
       "<class 'statsmodels.iolib.summary.Summary'>\n",
       "\"\"\"\n",
       "                             OLS Regression Results                             \n",
       "================================================================================\n",
       "Dep. Variable:     SAT Total Avg. Score   R-squared:                       0.256\n",
       "Model:                              OLS   Adj. R-squared:                  0.251\n",
       "Method:                   Least Squares   F-statistic:                     59.12\n",
       "Date:                  Wed, 06 May 2020   Prob (F-statistic):           1.09e-12\n",
       "Time:                          18:48:50   Log-Likelihood:                -1146.4\n",
       "No. Observations:                   174   AIC:                             2297.\n",
       "Df Residuals:                       172   BIC:                             2303.\n",
       "Df Model:                             1                                         \n",
       "Covariance Type:              nonrobust                                         \n",
       "=================================================================================================\n",
       "                                    coef    std err          t      P>|t|      [0.025      0.975]\n",
       "-------------------------------------------------------------------------------------------------\n",
       "const                          1100.0753     28.226     38.973      0.000    1044.360    1155.790\n",
       "Percentage of AP Exams Passed     4.6314      0.602      7.689      0.000       3.442       5.820\n",
       "==============================================================================\n",
       "Omnibus:                        6.613   Durbin-Watson:                   1.685\n",
       "Prob(Omnibus):                  0.037   Jarque-Bera (JB):               10.602\n",
       "Skew:                           0.095   Prob(JB):                      0.00499\n",
       "Kurtosis:                       4.194   Cond. No.                         98.7\n",
       "==============================================================================\n",
       "\n",
       "Warnings:\n",
       "[1] Standard Errors assume that the covariance matrix of the errors is correctly specified.\n",
       "\"\"\""
      ]
     },
     "execution_count": 27,
     "metadata": {},
     "output_type": "execute_result"
    }
   ],
   "source": [
    "results.summary()"
   ]
  },
  {
   "cell_type": "markdown",
   "metadata": {},
   "source": [
    "We have our results.\n",
    "\n",
    "coefficient: 0.506 <br>\n",
    "p-value: 0.00 <br>\n",
    "95% confidence interval: [3.442, 5.820] <br>\n",
    "$R^2$ = 0.256"
   ]
  },
  {
   "cell_type": "markdown",
   "metadata": {},
   "source": [
    "The correlation coefficient is 0.506. This coefficient implies that we have a positive and moderate correlation between percentage of AP exams passed and SAT total average score."
   ]
  },
  {
   "cell_type": "markdown",
   "metadata": {},
   "source": [
    "The p-value we obtained is 0. With an alpha level of $\\alpha = 0.05$, we will reject the null hypothesis that a higher percentage of passed AP exams is not associated with a higher total average SAT score. Instead, we will fail to reject our alternative hypothesis that a higher percentage of passed AP exams is associated with a higher total average SAT score."
   ]
  },
  {
   "cell_type": "markdown",
   "metadata": {},
   "source": [
    "The 95% confidence interval we obtained is [3.442, 5.820]. We can also use the confidence interval we obtain to reject the null hypothesis. Because our null hypothesis assumes that there is no difference, we will only fail to reject the null hypothesis if our confidence interval includes 0. But the confidence interval we obtained does not include 0, so we will fail to reject the null hypothesis."
   ]
  },
  {
   "cell_type": "markdown",
   "metadata": {},
   "source": [
    "The $R^2$ value is 0.256. Our $R^2$ value explains the variation of percentage of AP exams passed and total SAT average score. Our value of 0.256 is relatively low, and implies that only 25% of the variation in total SAT average score is explained by percentage of AP exams passed. The rest of the 75% of variation is explained by other things that we do not have in our data."
   ]
  },
  {
   "cell_type": "markdown",
   "metadata": {},
   "source": [
    "We can also manually compute our $R^2$ value."
   ]
  },
  {
   "cell_type": "code",
   "execution_count": 28,
   "metadata": {},
   "outputs": [
    {
     "name": "stdout",
     "output_type": "stream",
     "text": [
      "Mean of observed 1291.0632183908046\n",
      "Mean of predicted 1291.0632183908046\n",
      "Variance of observed 41539.34657814771\n",
      "Variance of predicted 10625.505719656803\n",
      "\n",
      "Value of r^2 0.2557937616969277\n",
      "Value of Formula 0.2557937616969279\n"
     ]
    }
   ],
   "source": [
    "#we want to predict average total SAT scores\n",
    "observed = data['SAT Total Avg. Score'] #observed values of average total SAT scores\n",
    "predicted = intercept + slope * data[\"Percentage of AP Exams Passed\"]\n",
    "\n",
    "print(\"Mean of observed {}\".format(np.mean(observed)))\n",
    "print(\"Mean of predicted {}\".format(np.mean(predicted)))\n",
    "print(\"Variance of observed {}\".format(np.std(observed)**2))\n",
    "print(\"Variance of predicted {}\".format(np.std(predicted)**2))\n",
    "\n",
    "#variance of predicted = r**2 variance of observed\n",
    "r**2 * np.std(observed)**2\n",
    "\n",
    "formula = 1 - (np.std(predicted - observed)**2 / np.std(observed)**2)\n",
    "\n",
    "print()\n",
    "print(\"Value of r^2 {}\".format(r**2))\n",
    "print(\"Value of Formula {}\".format(formula))"
   ]
  },
  {
   "cell_type": "markdown",
   "metadata": {},
   "source": [
    "Manually computing our $R^2$ yields a similar result: 0.256 since results.summary() also returned 0.256."
   ]
  },
  {
   "cell_type": "markdown",
   "metadata": {},
   "source": [
    "## Which hypothesis to reject and fail to reject, and why?"
   ]
  },
  {
   "cell_type": "markdown",
   "metadata": {},
   "source": [
    "Question 13: We reject our null hypothesis that a higer percentage of passed AP exams is not associated with a higher total average SAT score. We have demonstrated that we reject our null because our p-value is less than 0.05 and our confidence interval does not include 0. Therefore, we will fail to reject our alternative hypothesis that a higher percentage of passed AP exams is associated with a higher total average SAT score."
   ]
  },
  {
   "cell_type": "markdown",
   "metadata": {},
   "source": [
    "## Generating the residual plot"
   ]
  },
  {
   "cell_type": "markdown",
   "metadata": {},
   "source": [
    "Question 14: We can plot our residuals using the cell below."
   ]
  },
  {
   "cell_type": "code",
   "execution_count": 29,
   "metadata": {},
   "outputs": [
    {
     "data": {
      "image/png": "[encoded data removed]",
      "text/plain": [
       "<Figure size 432x288 with 1 Axes>"
      ]
     },
     "metadata": {
      "needs_background": "light"
     },
     "output_type": "display_data"
    }
   ],
   "source": [
    "plt.scatter(data[\"Percentage of AP Exams Passed\"], observed - predicted, alpha = 0.25)\n",
    "\n",
    "plt.axhline(y=0, color = \"red\", linestyle =\"dashed\")\n",
    "\n",
    "plt.xlabel(\"Percentage of AP Exams Passed\")\n",
    "plt.ylabel(\"Difference Between Observed and Predicted Average Total SAT Score\")\n",
    "plt.title(\"Scatter-Plot of Residuals\");"
   ]
  },
  {
   "cell_type": "markdown",
   "metadata": {},
   "source": [
    "## Comment on heteroskedasticity"
   ]
  },
  {
   "cell_type": "markdown",
   "metadata": {},
   "source": [
    "From our residual plot, we can observe hetereoskedasticity, meaning that the variance of our errors changes over the data. It would be ideal for us to not have any pattern in the residual, in which case we would observe homoskedasticity. But we do see a pattern in our case as the percentage of AP exams passed is greater, the variance also increases. For instance, the variance of residuals for schools that passed 20% of its AP exams is much lower than the variance of residuals for schools that passed 80% of its AP exams. \n",
    "\n",
    "Heteroskedasticity implies that our regression model is not able to consistently predict SAT total average score (our dependent variable) across all values. In our case, our regression model is consistently accurate when it predicts low values of SAT total average score, but inconsistent when it predicts high values of SAT total average score."
   ]
  },
  {
   "cell_type": "markdown",
   "metadata": {},
   "source": [
    "## 6: Conclusions"
   ]
  },
  {
   "cell_type": "markdown",
   "metadata": {},
   "source": [
    "## Sources of bias"
   ]
  },
  {
   "cell_type": "markdown",
   "metadata": {},
   "source": [
    "Question 15: There are two sources of bias in our analysis: selection bias and confounding bias. Selection bias may occur because our data might not contain records for all high schools in New York City. For instance, a high school that does poorly on AP exams and SAT exams might not want to report their results, in which case we would not have their record in our dataset. Although it is difficult to confirm if schools would actually do this, we did have missing values in our dataset. Selection bias can also occur because we dropped all records with missing values. Consequently, we were left with a smaller pool of high schools to conduct our analysis, and our sample of 174 observations is not representative of our entire population of 478 high schools. \n",
    "\n",
    "Confounding bias could also be present in our data because we did not take into account for all relevant factors when conducting our analysis. Our dataframe contains information on a school's SAT and AP results, but does not provide further information about the school itself, such as student demographics, school location, or school funding. Failing to adjust for confounders imply that it is difficult for us to accurately predict a school's SAT total average score only with the percentage of their AP exams passed."
   ]
  },
  {
   "cell_type": "markdown",
   "metadata": {},
   "source": [
    "## Conclusions from our analysis"
   ]
  },
  {
   "cell_type": "markdown",
   "metadata": {},
   "source": [
    "Question 16: We can conclude that there is an association between the percentage of AP exams passed for a school and its SAT total average score. Our findings reveal that we reject the null hypothesis of on difference or no association. Although we obtained a positively moderate correlation of 0.5, we should also point out that we observed heteroskedasticity in our regression model, meaning that we made mistakes in our modeling. \n",
    "\n",
    "It is also important to remember that while we identified correlation, we did not identify causation. Correlation does not imply causation, and so we cannot definitely claim that a higher percentage of AP exams passed for a high school causes a higher SAT total average score. We would need to create further assumptions about our study and run more analyses in order to identify a causal effect."
   ]
  },
  {
   "cell_type": "markdown",
   "metadata": {},
   "source": [
    "## Limitations and weaknesses"
   ]
  },
  {
   "cell_type": "markdown",
   "metadata": {},
   "source": [
    "Question 17: One limitation of our analysis is that we omitted a large amount of observations with missing values. Before we removed missing values, we had 478 observations, but after removing them, we were left 174 observations. The number of observations we were left with is not even half of our initial number of observations. This feature is a limitation because although we can conclude that a higher percentage of AP exams passed is associated with a higher SAT total average score, we cannot conclude that this correlation would be true for all high schools in New York City. 174 observations is not a great sample for the entire population of 478 high schools in New York. We cannot assume that if a high school in New York City happens to have a high percentage of AP exams passed, it is guaranteed that the same high school would have a high SAT total average score.\n",
    "\n",
    "We also need to be aware of potential confounders. There are a lot of factors that can affect a high school's SAT total average score: the size of the school, teacher-to-student ratio, the school's resources, and whether the school is private of public. In our project, we only used the percentage of AP exams passed of a school to predict their SAT total average score. Because of confounders, it is likely that a school with a low percentage of AP exams passed can have a high SAT total average score. The opposite is also true, where a high school with a high percentage of AP exams passed can have a low SAT total average score."
   ]
  },
  {
   "cell_type": "code",
   "execution_count": null,
   "metadata": {},
   "outputs": [],
   "source": []
  }
 ],
 "metadata": {
  "kernelspec": {
   "display_name": "Python [conda env:dsua-111]",
   "language": "python",
   "name": "conda-env-dsua-111-py"
  },
  "language_info": {
   "codemirror_mode": {
    "name": "ipython",
    "version": 3
   },
   "file_extension": ".py",
   "mimetype": "text/x-python",
   "name": "python",
   "nbconvert_exporter": "python",
   "pygments_lexer": "ipython3",
   "version": "3.7.6"
  }
 },
 "nbformat": 4,
 "nbformat_minor": 4
}
